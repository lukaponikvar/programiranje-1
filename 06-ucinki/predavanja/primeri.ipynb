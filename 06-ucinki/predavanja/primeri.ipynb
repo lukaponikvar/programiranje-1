{
 "cells": [
  {
   "cell_type": "markdown",
   "metadata": {},
   "source": [
    "# Učinki"
   ]
  },
  {
   "cell_type": "markdown",
   "metadata": {},
   "source": [
    "## Branje vrstic v Jupytru"
   ]
  },
  {
   "cell_type": "markdown",
   "metadata": {},
   "source": [
    "Ob klicu vgrajene funkcije `read_line` se Jupyter obesi. Zato namesto nje (in `read_int`) definiramo spodnji dve funkciji, ki uporabljata funkcijo `Jupyter_comm.Stdin.read_line`, ki v Jupytru odpre okno z vnosom. Za več informacij glej: <https://github.com/akabe/ocaml-jupyter/issues/162>."
   ]
  },
  {
   "cell_type": "code",
   "execution_count": 15,
   "metadata": {
    "vscode": {
     "languageId": "ocaml"
    }
   },
   "outputs": [
    {
     "name": "stdout",
     "output_type": "stream",
     "text": [
      "- : unit = ()\n"
     ]
    },
    {
     "name": "stdout",
     "output_type": "stream",
     "text": [
      "Findlib has been successfully loaded. Additional directives:\n",
      "  #require \"package\";;      to load a package\n",
      "  #list;;                   to list the available packages\n",
      "  #camlp4o;;                to load camlp4 (standard syntax)\n",
      "  #camlp4r;;                to load camlp4 (revised syntax)\n",
      "  #predicates \"p,q,...\";;   to set these predicates\n",
      "  Topfind.reset();;         to force that packages will be reloaded\n",
      "  #thread;;                 to enable threads\n",
      "\n",
      "- : unit = ()\n"
     ]
    },
    {
     "data": {
      "text/plain": [
       "val read_line : unit -> string = <fun>\n"
      ]
     },
     "execution_count": 15,
     "metadata": {},
     "output_type": "execute_result"
    },
    {
     "data": {
      "text/plain": [
       "val read_int : unit -> int = <fun>\n"
      ]
     },
     "execution_count": 15,
     "metadata": {},
     "output_type": "execute_result"
    }
   ],
   "source": [
    "#use \"topfind\";;\n",
    "#require \"jupyter.comm\";;\n",
    "let read_line () = let str = Jupyter_comm.Stdin.read_line \"\" in print_endline str; str\n",
    "let read_int () = read_line () |> int_of_string"
   ]
  },
  {
   "cell_type": "markdown",
   "metadata": {},
   "source": [
    "## Vgrajeni učinki v OCamlu"
   ]
  },
  {
   "cell_type": "code",
   "execution_count": 16,
   "metadata": {
    "vscode": {
     "languageId": "ocaml"
    }
   },
   "outputs": [
    {
     "name": "stdout",
     "output_type": "stream",
     "text": [
      "Hello, world!\n"
     ]
    },
    {
     "data": {
      "text/plain": [
       "- : unit = ()\n"
      ]
     },
     "execution_count": 16,
     "metadata": {},
     "output_type": "execute_result"
    }
   ],
   "source": [
    "print_endline \"Hello, world!\""
   ]
  },
  {
   "cell_type": "code",
   "execution_count": 10,
   "metadata": {
    "vscode": {
     "languageId": "ocaml"
    }
   },
   "outputs": [
    {
     "name": "stdout",
     "output_type": "stream",
     "text": [
      "Hello,\n",
      "world!\n"
     ]
    },
    {
     "data": {
      "text/plain": [
       "- : unit = ()\n"
      ]
     },
     "execution_count": 10,
     "metadata": {},
     "output_type": "execute_result"
    }
   ],
   "source": [
    "List.iter print_endline [\"Hello,\"; \"world!\"]"
   ]
  },
  {
   "cell_type": "code",
   "execution_count": 11,
   "metadata": {
    "vscode": {
     "languageId": "ocaml"
    }
   },
   "outputs": [
    {
     "name": "stdout",
     "output_type": "stream",
     "text": [
      "Kako ti je ime?\n",
      "Matij\n",
      "Zdravo, Matij\n"
     ]
    },
    {
     "data": {
      "text/plain": [
       "- : unit = ()\n"
      ]
     },
     "execution_count": 11,
     "metadata": {},
     "output_type": "execute_result"
    }
   ],
   "source": [
    "print_endline \"Kako ti je ime?\";\n",
    "let ime = read_line () in\n",
    "print_endline (\"Zdravo, \" ^ ime)"
   ]
  },
  {
   "cell_type": "code",
   "execution_count": 12,
   "metadata": {
    "vscode": {
     "languageId": "ocaml"
    }
   },
   "outputs": [
    {
     "name": "stdout",
     "output_type": "stream",
     "text": [
      "Ob prvem klicu bo 417672 = 809344\n"
     ]
    },
    {
     "data": {
      "text/plain": [
       "- : unit = ()\n"
      ]
     },
     "execution_count": 12,
     "metadata": {},
     "output_type": "execute_result"
    }
   ],
   "source": [
    "let popolnoma_nakljucno_stevilo = Random.int 1000000 in\n",
    "print_endline (\"Ob prvem klicu bo \" ^ string_of_int popolnoma_nakljucno_stevilo ^ \" = 809344\")"
   ]
  },
  {
   "cell_type": "code",
   "execution_count": 17,
   "metadata": {
    "vscode": {
     "languageId": "ocaml"
    }
   },
   "outputs": [
    {
     "data": {
      "text/plain": [
       "exception NegativnoStevilo\n"
      ]
     },
     "execution_count": 17,
     "metadata": {},
     "output_type": "execute_result"
    },
    {
     "data": {
      "text/plain": [
       "val ugibaj : unit -> unit = <fun>\n"
      ]
     },
     "execution_count": 17,
     "metadata": {},
     "output_type": "execute_result"
    }
   ],
   "source": [
    "(* Definiramo izjemo, ki jo bomo sprožili ob vnosu negativnega števila *)\n",
    "exception NegativnoStevilo\n",
    "\n",
    ";;\n",
    "\n",
    "let ugibaj () =\n",
    "  try\n",
    "    (* PREDPRIPRAVA *)\n",
    "    (* Generatorju psevdonaključnih števil psevdonaključno nastavimo seme. *)\n",
    "    Random.self_init ();\n",
    "    (* OCamlu povemo, naj ujame klic za prekinitev programa. *)\n",
    "    Sys.catch_break true;\n",
    "    print_string \"Do koliko znaš šteti? \";\n",
    "    (* Z vhodne vrstice preberemo niz in ga pretvorimo v število. *)\n",
    "    let meja = read_int () in\n",
    "    (* Izračunamo psevdonaključno število v danih mejah *)\n",
    "    let izmisljeno_stevilo = 1 + Random.int meja in\n",
    "    print_endline (\"Izmislil sem si število med 1 in \" ^ string_of_int meja);\n",
    "\n",
    "    let preberi_stevilo () =\n",
    "      let poskus = read_int () in\n",
    "      if poskus < 0 then\n",
    "        (* Če je vnešeno število negativno, sprožimo izjemo. *)\n",
    "        raise NegativnoStevilo\n",
    "      else\n",
    "        poskus\n",
    "    in\n",
    "\n",
    "    (* GLAVNA ZANKA *)\n",
    "    (* Definiramo glavno zanko programa *)\n",
    "    let rec ugibaj () =\n",
    "      print_string \"Katero število sem si izmislil? \";\n",
    "      let poskus = preberi_stevilo () in\n",
    "      if izmisljeno_stevilo = poskus then\n",
    "        print_endline \"BRAVO!\"\n",
    "      else if izmisljeno_stevilo < poskus then\n",
    "        begin\n",
    "          print_endline \"Ne, moje število je manjše\";\n",
    "          ugibaj ()\n",
    "        end\n",
    "      else\n",
    "        begin\n",
    "          print_endline \"Ne, moje število je večje\";\n",
    "          ugibaj ()\n",
    "        end\n",
    "    in\n",
    "    (* Poženemo glavno zanko programa *)\n",
    "    ugibaj ()\n",
    "\n",
    "  (* LOVLJENJE IZJEM *)\n",
    "  with\n",
    "  | Failure msg when msg = \"int_of_string\" ->\n",
    "    print_endline \"Če ne veš, kako se zapiše števila, tole verjetno nima smisla...\"\n",
    "  | Sys.Break ->\n",
    "    print_endline \"Adijo!\"\n",
    "  | NegativnoStevilo ->\n",
    "    print_endline \"Rekel sem NARAVNO število!\"\n",
    "  | _ ->\n",
    "    print_endline \"Kaj se pa greš?\"\n"
   ]
  },
  {
   "cell_type": "markdown",
   "metadata": {},
   "source": [
    "Zgornji program vrstice včasih izpiše z zamikom, tako da ga je bolje poganjati neposredno v terminalu."
   ]
  },
  {
   "cell_type": "code",
   "execution_count": 18,
   "metadata": {
    "vscode": {
     "languageId": "ocaml"
    }
   },
   "outputs": [
    {
     "name": "stdout",
     "output_type": "stream",
     "text": [
      "Do koliko znaš šteti? \n",
      "300\n",
      "Izmislil sem si število med 1 in 300\n",
      "Katero število sem si izmislil? \n",
      "150\n",
      "Ne, moje število je manjše\n",
      "Katero število sem si izmislil? \n",
      "200\n",
      "Ne, moje število je manjše\n",
      "Katero število sem si izmislil? \n",
      "\n",
      "Če ne veš, kako se zapiše števila, tole verjetno nima smisla...\n"
     ]
    },
    {
     "data": {
      "text/plain": [
       "- : unit = ()\n"
      ]
     },
     "execution_count": 18,
     "metadata": {},
     "output_type": "execute_result"
    }
   ],
   "source": [
    "ugibaj ()"
   ]
  },
  {
   "cell_type": "markdown",
   "metadata": {},
   "source": [
    "## Končni avtomati s prehodno funkcijo"
   ]
  },
  {
   "cell_type": "code",
   "execution_count": 19,
   "metadata": {
    "vscode": {
     "languageId": "ocaml"
    }
   },
   "outputs": [
    {
     "data": {
      "text/plain": [
       "type stanje = string\n"
      ]
     },
     "execution_count": 19,
     "metadata": {},
     "output_type": "execute_result"
    }
   ],
   "source": [
    "type stanje = string"
   ]
  },
  {
   "cell_type": "code",
   "execution_count": 20,
   "metadata": {
    "vscode": {
     "languageId": "ocaml"
    }
   },
   "outputs": [
    {
     "data": {
      "text/plain": [
       "type fsm = {\n",
       "  stanja : stanje list;\n",
       "  zacetno_stanje : stanje;\n",
       "  sprejemna_stanja : stanje list;\n",
       "  prehodna_funkcija : stanje -> char -> stanje;\n",
       "}\n"
      ]
     },
     "execution_count": 20,
     "metadata": {},
     "output_type": "execute_result"
    }
   ],
   "source": [
    "type fsm = {\n",
    "  stanja : stanje list;\n",
    "  zacetno_stanje : stanje;\n",
    "  sprejemna_stanja : stanje list;\n",
    "  prehodna_funkcija : stanje -> char -> stanje\n",
    "}"
   ]
  },
  {
   "cell_type": "code",
   "execution_count": 21,
   "metadata": {
    "vscode": {
     "languageId": "ocaml"
    }
   },
   "outputs": [
    {
     "data": {
      "text/plain": [
       "val ravno_prav_nicel : fsm =\n",
       "  {stanja = [\"ostanek 0\"; \"ostanek 1\"; \"ostanek 2\"];\n",
       "   zacetno_stanje = \"ostanek 0\"; sprejemna_stanja = [\"ostanek 1\"];\n",
       "   prehodna_funkcija = <fun>}\n"
      ]
     },
     "execution_count": 21,
     "metadata": {},
     "output_type": "execute_result"
    }
   ],
   "source": [
    "let ravno_prav_nicel =\n",
    "  let q0 = \"ostanek 0\"\n",
    "  and q1 = \"ostanek 1\"\n",
    "  and q2 = \"ostanek 2\"\n",
    "  in\n",
    "  let prehodna_funkcija q c =\n",
    "    match c with\n",
    "    | '0' when q = q0 -> q1\n",
    "    | '0' when q = q1 -> q2\n",
    "    | '0' when q = q2 -> q0\n",
    "    | '1' -> q\n",
    "    | _ -> failwith \"Neveljaven prehod\"\n",
    "  in\n",
    "  {\n",
    "    stanja = [q0; q1; q2];\n",
    "    zacetno_stanje = q0;\n",
    "    sprejemna_stanja = [q1];\n",
    "    prehodna_funkcija = prehodna_funkcija\n",
    "  }"
   ]
  },
  {
   "cell_type": "markdown",
   "metadata": {},
   "source": [
    "## Končni avtomati s seznamom prehodov"
   ]
  },
  {
   "cell_type": "code",
   "execution_count": 20,
   "metadata": {
    "vscode": {
     "languageId": "ocaml"
    }
   },
   "outputs": [
    {
     "data": {
      "text/plain": [
       "type fsm = {\n",
       "  stanja : stanje list;\n",
       "  zacetno_stanje : stanje;\n",
       "  sprejemna_stanja : stanje list;\n",
       "  prehodi : (stanje * char * stanje) list;\n",
       "}\n"
      ]
     },
     "execution_count": 20,
     "metadata": {},
     "output_type": "execute_result"
    }
   ],
   "source": [
    "type fsm = {\n",
    "  stanja : stanje list;\n",
    "  zacetno_stanje : stanje;\n",
    "  sprejemna_stanja : stanje list;\n",
    "  prehodi : (stanje * char * stanje) list\n",
    "}"
   ]
  },
  {
   "cell_type": "code",
   "execution_count": 21,
   "metadata": {
    "vscode": {
     "languageId": "ocaml"
    }
   },
   "outputs": [
    {
     "data": {
      "text/plain": [
       "val ravno_prav_nicel : fsm =\n",
       "  {stanja = [\"ostanek 0\"; \"ostanek 1\"; \"ostanek 2\"];\n",
       "   zacetno_stanje = \"ostanek 0\"; sprejemna_stanja = [\"ostanek 1\"];\n",
       "   prehodi =\n",
       "    [(\"ostanek 0\", '0', \"ostanek 1\"); (\"ostanek 1\", '0', \"ostanek 2\");\n",
       "     (\"ostanek 2\", '0', \"ostanek 0\"); (\"ostanek 0\", '1', \"ostanek 0\");\n",
       "     (\"ostanek 1\", '1', \"ostanek 1\"); (\"ostanek 2\", '1', \"ostanek 2\")]}\n"
      ]
     },
     "execution_count": 21,
     "metadata": {},
     "output_type": "execute_result"
    }
   ],
   "source": [
    "let ravno_prav_nicel =\n",
    "  let q0 = \"ostanek 0\"\n",
    "  and q1 = \"ostanek 1\"\n",
    "  and q2 = \"ostanek 2\"\n",
    "  in\n",
    "  let prehodi = [\n",
    "    (q0, '0', q1);\n",
    "    (q1, '0', q2);\n",
    "    (q2, '0', q0);\n",
    "    (q0, '1', q0);\n",
    "    (q1, '1', q1);\n",
    "    (q2, '1', q2);\n",
    "  ]\n",
    "  in\n",
    "  {\n",
    "    stanja = [q0; q1; q2];\n",
    "    zacetno_stanje = q0;\n",
    "    sprejemna_stanja = [q1];\n",
    "    prehodi = prehodi\n",
    "  }"
   ]
  },
  {
   "cell_type": "code",
   "execution_count": 22,
   "metadata": {
    "vscode": {
     "languageId": "ocaml"
    }
   },
   "outputs": [
    {
     "data": {
      "text/plain": [
       "val vsebuje_samo_nicle : fsm =\n",
       "  {stanja = [\"ima 1\"; \"nima 1\"]; zacetno_stanje = \"nima 1\";\n",
       "   sprejemna_stanja = [\"nima 1\"];\n",
       "   prehodi =\n",
       "    [(\"nima 1\", '0', \"nima 1\"); (\"nima 1\", '1', \"ima 1\");\n",
       "     (\"ima 1\", '0', \"ima 1\"); (\"ima 1\", '1', \"ima 1\")]}\n"
      ]
     },
     "execution_count": 22,
     "metadata": {},
     "output_type": "execute_result"
    }
   ],
   "source": [
    "let vsebuje_samo_nicle =\n",
    "  let ima_enke = \"ima 1\"\n",
    "  and nima_enk = \"nima 1\"\n",
    "  in\n",
    "  {\n",
    "  stanja = [ima_enke; nima_enk];\n",
    "  zacetno_stanje = nima_enk;\n",
    "  sprejemna_stanja = [nima_enk];\n",
    "  prehodi = [\n",
    "    (nima_enk, '0', nima_enk);\n",
    "    (nima_enk, '1', ima_enke);\n",
    "    (ima_enke, '0', ima_enke);\n",
    "    (ima_enke, '1', ima_enke);\n",
    "  ]\n",
    "}"
   ]
  },
  {
   "cell_type": "code",
   "execution_count": 23,
   "metadata": {
    "vscode": {
     "languageId": "ocaml"
    }
   },
   "outputs": [
    {
     "data": {
      "text/plain": [
       "val prehodna_funkcija : fsm -> stanje -> char -> stanje = <fun>\n"
      ]
     },
     "execution_count": 23,
     "metadata": {},
     "output_type": "execute_result"
    }
   ],
   "source": [
    "let prehodna_funkcija m q c =\n",
    "  let (_, _, q') = List.find (fun (q1, c', q2) -> q1 = q && c = c') m.prehodi in\n",
    "  q'"
   ]
  },
  {
   "cell_type": "code",
   "execution_count": 24,
   "metadata": {
    "vscode": {
     "languageId": "ocaml"
    }
   },
   "outputs": [
    {
     "data": {
      "text/plain": [
       "val ali_sprejema_niz : fsm -> string -> bool = <fun>\n"
      ]
     },
     "execution_count": 24,
     "metadata": {},
     "output_type": "execute_result"
    }
   ],
   "source": [
    "let ali_sprejema_niz m s =\n",
    "  let koncno_stanje = String.fold_left (prehodna_funkcija m) m.zacetno_stanje s in\n",
    "  List.mem koncno_stanje m.sprejemna_stanja"
   ]
  },
  {
   "cell_type": "code",
   "execution_count": 25,
   "metadata": {
    "vscode": {
     "languageId": "ocaml"
    }
   },
   "outputs": [
    {
     "data": {
      "text/plain": [
       "- : bool = true\n"
      ]
     },
     "execution_count": 25,
     "metadata": {},
     "output_type": "execute_result"
    }
   ],
   "source": [
    "ali_sprejema_niz ravno_prav_nicel \"011110010\""
   ]
  },
  {
   "cell_type": "code",
   "execution_count": 26,
   "metadata": {
    "vscode": {
     "languageId": "ocaml"
    }
   },
   "outputs": [
    {
     "data": {
      "text/plain": [
       "- : bool = true\n"
      ]
     },
     "execution_count": 26,
     "metadata": {},
     "output_type": "execute_result"
    }
   ],
   "source": [
    "ali_sprejema_niz vsebuje_samo_nicle \"0000000\""
   ]
  }
 ],
 "metadata": {
  "kernelspec": {
   "display_name": "OCaml default",
   "language": "OCaml",
   "name": "ocaml-jupyter-default"
  },
  "language_info": {
   "codemirror_mode": "text/x-ocaml",
   "file_extension": ".ml",
   "mimetype": "text/x-ocaml",
   "name": "OCaml",
   "nbconverter_exporter": null,
   "pygments_lexer": "OCaml",
   "version": "4.14.1"
  }
 },
 "nbformat": 4,
 "nbformat_minor": 2
}
